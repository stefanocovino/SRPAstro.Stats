{
 "cells": [
  {
   "cell_type": "markdown",
   "metadata": {},
   "source": [
    "## Pandas_CCF"
   ]
  },
  {
   "cell_type": "code",
   "execution_count": 5,
   "metadata": {},
   "outputs": [],
   "source": [
    "from SRPSTATS.Pandas_CCF import Pandas_CCF\n",
    "import pandas as pd\n",
    "import numpy as np"
   ]
  },
  {
   "cell_type": "code",
   "execution_count": 18,
   "metadata": {},
   "outputs": [
    {
     "name": "stdout",
     "output_type": "stream",
     "text": [
      "0.0 0.02032190748987712\n",
      "0.03125 0.09887991553569955\n",
      "0.0625 0.21464984440989113\n",
      "0.09375 0.3743004192613118\n",
      "0.125 0.39711149085581177\n",
      "0.15625 0.46901278644496985\n",
      "0.1875 0.578252484477032\n",
      "0.21875 0.586365710095724\n",
      "0.25 0.6210396288198186\n",
      "0.28125 0.5803636097436143\n",
      "0.3125 0.5719179969938957\n",
      "0.34375 0.5064159845938431\n",
      "0.375 0.4482377168334884\n",
      "0.40625 0.281082248383932\n",
      "0.4375 0.2571140037926368\n"
     ]
    }
   ],
   "source": [
    "dt = 0.03125  # seconds\n",
    "exposure = 10.  # seconds\n",
    "freq = 1   # Hz\n",
    "times = np.arange(0, exposure, dt)  # seconds\n",
    "signal_1 = 300 * np.sin(2.*np.pi*freq*times) + 1000  # counts/s\n",
    "signal_2 = 300 * np.sin(2.*np.pi*freq*times + np.pi/2) + 1000  # counts/s\n",
    "noisy_1 = np.random.poisson(signal_1*dt)  # counts\n",
    "noisy_2 = np.random.poisson(signal_2*dt)  # counts\n",
    "\n",
    "d = {'x':noisy_1, \"y\":noisy_2}\n",
    "df = pd.DataFrame(data=d)\n",
    "d1 = df['x']\n",
    "d2 = df['y']\n",
    "\n",
    "for lag in range(0,15):\n",
    "    print(lag*dt,Pandas_CCF(d1,d2,lag=lag))"
   ]
  }
 ],
 "metadata": {
  "kernelspec": {
   "display_name": "Python 3",
   "language": "python",
   "name": "python3"
  },
  "language_info": {
   "codemirror_mode": {
    "name": "ipython",
    "version": 3
   },
   "file_extension": ".py",
   "mimetype": "text/x-python",
   "name": "python",
   "nbconvert_exporter": "python",
   "pygments_lexer": "ipython3",
   "version": "3.7.7"
  }
 },
 "nbformat": 4,
 "nbformat_minor": 4
}
